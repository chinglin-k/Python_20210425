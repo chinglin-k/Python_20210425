{
  "nbformat": 4,
  "nbformat_minor": 0,
  "metadata": {
    "colab": {
      "name": "3_python決策與選擇結構(SELECTION /DECISION)_20210425.ipynb",
      "provenance": [],
      "collapsed_sections": [],
      "authorship_tag": "ABX9TyNwQwJCw1u1wDhCfc6kblj4",
      "include_colab_link": true
    },
    "kernelspec": {
      "name": "python3",
      "display_name": "Python 3"
    },
    "language_info": {
      "name": "python"
    }
  },
  "cells": [
    {
      "cell_type": "markdown",
      "metadata": {
        "id": "view-in-github",
        "colab_type": "text"
      },
      "source": [
        "<a href=\"https://colab.research.google.com/github/chinglin-k/Python_20210425/blob/main/3_python%E6%B1%BA%E7%AD%96%E8%88%87%E9%81%B8%E6%93%87%E7%B5%90%E6%A7%8B(SELECTION_DECISION)_20210425.ipynb\" target=\"_parent\"><img src=\"https://colab.research.google.com/assets/colab-badge.svg\" alt=\"Open In Colab\"/></a>"
      ]
    },
    {
      "cell_type": "markdown",
      "metadata": {
        "id": "mH6zJdruZXPa"
      },
      "source": [
        "#python決策與選擇結構(SELECTION /DECISION)"
      ]
    },
    {
      "cell_type": "markdown",
      "metadata": {
        "id": "5PM9GGGhZl9w"
      },
      "source": [
        "    程式語言都會有的決策與選擇結構(SELECTION /DECISION)\n",
        "    C C++ C# \n",
        "    [1]if\n",
        "    [2]if ...elsif\n",
        "    [3]if ...else\n",
        "    [4]if ...elsif ...else\n",
        "    [5]各種判斷條件==> 善用 AND   OR\n",
        "    [6]範例\n",
        "    單向判斷式（if⋯）: 是非題｜對的才要做\n",
        "    雙向判斷式（if⋯else）: 二選一｜一定要選的\n",
        "    多向判斷式（if⋯elif⋯else）: 多選一｜一定要選的\n",
        "    PS: Python沒有switch"
      ]
    },
    {
      "cell_type": "markdown",
      "metadata": {
        "id": "KhMl-dq-aQla"
      },
      "source": [
        "if"
      ]
    },
    {
      "cell_type": "code",
      "metadata": {
        "colab": {
          "base_uri": "https://localhost:8080/"
        },
        "id": "NcMQ2RGnZlbJ",
        "outputId": "e5604abb-c526-412a-e3b0-8886aefdae4b"
      },
      "source": [
        "a = 33\n",
        "b = 200\n",
        "\n",
        "if b > a:\n",
        "  print(\"b is greater than a\")\n",
        "a = 33\n",
        "b = 20\n",
        "\n",
        "if b > a:\n",
        "  print(\"b is greater than a\")"
      ],
      "execution_count": 1,
      "outputs": [
        {
          "output_type": "stream",
          "text": [
            "b is greater than a\n"
          ],
          "name": "stdout"
        }
      ]
    },
    {
      "cell_type": "markdown",
      "metadata": {
        "id": "pCpQGHezaYaZ"
      },
      "source": [
        "if...elif..."
      ]
    },
    {
      "cell_type": "code",
      "metadata": {
        "colab": {
          "base_uri": "https://localhost:8080/"
        },
        "id": "JCzL4HWTZQQm",
        "outputId": "d32bd741-8957-4a7a-9384-94f8744fe943"
      },
      "source": [
        "a = 32\n",
        "b = 33\n",
        "\n",
        "if b > a:\n",
        "  print(\"b is greater than a\")\n",
        "elif a == b:\n",
        "  print(\"a and b are equal\")"
      ],
      "execution_count": 2,
      "outputs": [
        {
          "output_type": "stream",
          "text": [
            "b is greater than a\n"
          ],
          "name": "stdout"
        }
      ]
    },
    {
      "cell_type": "code",
      "metadata": {
        "colab": {
          "base_uri": "https://localhost:8080/"
        },
        "id": "8h60zZXeZ4wR",
        "outputId": "0a3425a6-bbc2-4421-9594-2171b1625d56"
      },
      "source": [
        "a = 33\n",
        "b = 33\n",
        "if b > a:\n",
        "  print(\"b is greater than a\")\n",
        "elif a == b:\n",
        "  print(\"a and b are equal\")"
      ],
      "execution_count": 3,
      "outputs": [
        {
          "output_type": "stream",
          "text": [
            "a and b are equal\n"
          ],
          "name": "stdout"
        }
      ]
    },
    {
      "cell_type": "markdown",
      "metadata": {
        "id": "qT1yEXZzacZQ"
      },
      "source": [
        "if...elif...else..."
      ]
    },
    {
      "cell_type": "code",
      "metadata": {
        "colab": {
          "base_uri": "https://localhost:8080/"
        },
        "id": "_RbpRJRaZ-6A",
        "outputId": "bd880e8c-6ee2-4841-f3c9-c95b3b17b9d4"
      },
      "source": [
        "a = 35\n",
        "b = 33\n",
        "\n",
        "if b > a:\n",
        "  print(\"b is greater than a\")\n",
        "elif a == b:\n",
        "  print(\"a and b are equal\")\n",
        "else:\n",
        "  print(\"a is smaller than b\")"
      ],
      "execution_count": 7,
      "outputs": [
        {
          "output_type": "stream",
          "text": [
            "a is smaller than b\n"
          ],
          "name": "stdout"
        }
      ]
    },
    {
      "cell_type": "code",
      "metadata": {
        "colab": {
          "base_uri": "https://localhost:8080/"
        },
        "id": "J_yOY3wqaogB",
        "outputId": "3ddf15dd-df7a-476c-f268-f2ddbe8a8d93"
      },
      "source": [
        "a = 200\n",
        "b = 33\n",
        "\n",
        "if b > a:\n",
        "  print(\"b is greater than a\")\n",
        "elif a == b:\n",
        "  print(\"a and b are equal\")\n",
        "else:\n",
        "  print(\"a is greater than b\")"
      ],
      "execution_count": 9,
      "outputs": [
        {
          "output_type": "stream",
          "text": [
            "a is greater than b\n"
          ],
          "name": "stdout"
        }
      ]
    },
    {
      "cell_type": "markdown",
      "metadata": {
        "id": "OSJgzgNVajFZ"
      },
      "source": [
        "if...else..."
      ]
    },
    {
      "cell_type": "code",
      "metadata": {
        "colab": {
          "base_uri": "https://localhost:8080/"
        },
        "id": "oYLP_3z1aiC4",
        "outputId": "fcebcd38-2b02-4ab6-c9d1-a261b56cbbae"
      },
      "source": [
        "a = 200\n",
        "b = 33\n",
        "\n",
        "if b > a:\n",
        "  print(\"b is greater than a\")\n",
        "else:\n",
        "  print(\"b is not greater than a\")"
      ],
      "execution_count": 8,
      "outputs": [
        {
          "output_type": "stream",
          "text": [
            "b is not greater than a\n"
          ],
          "name": "stdout"
        }
      ]
    },
    {
      "cell_type": "markdown",
      "metadata": {
        "id": "RJVt3ElbayH4"
      },
      "source": [
        "AND & OR + if...elif...else..."
      ]
    },
    {
      "cell_type": "code",
      "metadata": {
        "colab": {
          "base_uri": "https://localhost:8080/"
        },
        "id": "W9fd5KJza88-",
        "outputId": "cc2b6f6c-142d-45a1-d1e1-7ef57b095ea4"
      },
      "source": [
        "#判斷是否為閏年\n",
        "year= eval(input(\"請輸入年\"))\n",
        "\n",
        "if ((year%400==0) or (year%4==0 and year%100!=0)):\n",
        "  print(\"{0} 是閏年\".format(year))\n",
        "else:\n",
        "  print(\"{0} 不是閏年\".format(year))\n"
      ],
      "execution_count": 10,
      "outputs": [
        {
          "output_type": "stream",
          "text": [
            "請輸入年2020\n",
            "2020 是閏年\n"
          ],
          "name": "stdout"
        }
      ]
    },
    {
      "cell_type": "markdown",
      "metadata": {
        "id": "OHC3aEQ_bFDo"
      },
      "source": [
        "運算思維 >> 程式語法"
      ]
    },
    {
      "cell_type": "code",
      "metadata": {
        "colab": {
          "base_uri": "https://localhost:8080/"
        },
        "id": "xdJdmhmlbA7Y",
        "outputId": "2e0e3100-5409-4b7a-8253-602402c21ae6"
      },
      "source": [
        "# 問題簡述:\n",
        "# 輸入:年月日\n",
        "# 輸出:今年已經過了多少日\n",
        "\n",
        "\n",
        "#Input\n",
        "    # year, month, day = eval(input(\"請輸入年月日\"))\n",
        "    # year, month, day\n",
        "# 請輸入年月日2019,5,22\n",
        "# (2019, 5, 22)\n",
        "\n",
        "#閏年2月的時間\n",
        "    # day_month = [31, 28, 31, 30, 31, 30, 31, 31, 30, 31, 30, 31]\n",
        "    # if year%400==0 or (year%4==0 and year%100!=0):\t\n",
        "    #   day_month[1] = 29\n",
        "\n",
        "#計算所有已經過去的日子\n",
        "    # if month==1:\n",
        "    #     print(day)\n",
        "    # else:\n",
        "    #     print(sum(day_month[:month-1])+day)\n",
        "\n",
        "\n",
        "\n",
        "#完整程式\n",
        "\n",
        "year, month, day = map(int,input(\"請輸入年月日\").split())\n",
        "year, month, day\n",
        "\n",
        "day_month = [31, 28, 31, 30, 31, 30, 31, 31, 30, 31, 30, 31]\n",
        "\n",
        "if year%400==0 or (year%4==0 and year%100!=0):\t\n",
        "  day_month[1] = 29\n",
        "\n",
        "if month==1:\n",
        "    print(day)\n",
        "else:\n",
        "    print(sum(day_month[:month-1])+day)"
      ],
      "execution_count": 18,
      "outputs": [
        {
          "output_type": "stream",
          "text": [
            "2019 5 22\n",
            "142\n"
          ],
          "name": "stdout"
        }
      ]
    },
    {
      "cell_type": "markdown",
      "metadata": {
        "id": "-HgS9CGfdNy6"
      },
      "source": [
        "多向判斷式（if⋯elif⋯else）： 收銀台程式開發"
      ]
    },
    {
      "cell_type": "code",
      "metadata": {
        "colab": {
          "base_uri": "https://localhost:8080/"
        },
        "id": "xz-63Rn3dRKZ",
        "outputId": "1343b910-7357-419b-e7c7-66beaa41f161"
      },
      "source": [
        "# 百貨公司週年慶活動血拼大打折，\n",
        "# 吸引很多顧客上門，\n",
        "# 公司決定再加碼回饋客戶，\n",
        "\n",
        "# 只要客戶消費\n",
        "# 金額在 100000 元以上就打八折，\n",
        "# 金額在 50000 元以上就打八五折，\n",
        "# 金額在 30000 元以上就打九折，\n",
        "# 金額在 10000 元以上就打九五折，\n",
        "# 金額在 10000 元以下就不打折\n",
        "\n",
        "# 請幫該公司設計這個收銀台的程式，\n",
        "# 輸入顧客購買金額後，計算顧客應付的金錢。\n",
        "\n",
        "\n",
        "\n",
        "# 若輸入113234元顧客應付多少錢?\n",
        "\n",
        "money = int(input(\"請輸入購物金額：\"))\n",
        "\n",
        "if(money >= 10000):\n",
        "    if(money >= 100000):\n",
        "        print(money * 0.8, end=\" 元\\n\")  #八折\n",
        "    elif(money >= 50000):\n",
        "        print(money * 0.85, end=\" 元\\n\")  #八五折\n",
        "    elif(money >= 30000):\n",
        "        print(money * 0.9, end=\" 元\\n\")  #九折\n",
        "    else:\n",
        "        print(money * 0.95, end=\" 元\\n\")  #九五折\n",
        "else:\n",
        "    print(money, end=\" 元\\n\")  #未打折"
      ],
      "execution_count": 19,
      "outputs": [
        {
          "output_type": "stream",
          "text": [
            "請輸入購物金額：25000\n",
            "23750.0 元\n"
          ],
          "name": "stdout"
        }
      ]
    }
  ]
}