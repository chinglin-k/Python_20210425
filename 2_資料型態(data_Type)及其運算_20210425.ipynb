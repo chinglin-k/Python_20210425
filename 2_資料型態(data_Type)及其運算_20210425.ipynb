{
  "nbformat": 4,
  "nbformat_minor": 0,
  "metadata": {
    "colab": {
      "name": "2_資料型態(data Type)及其運算_20210425.ipynb",
      "provenance": [],
      "collapsed_sections": [],
      "authorship_tag": "ABX9TyPA0RjaYqJNRCt0fKY16jmw",
      "include_colab_link": true
    },
    "kernelspec": {
      "name": "python3",
      "display_name": "Python 3"
    },
    "language_info": {
      "name": "python"
    }
  },
  "cells": [
    {
      "cell_type": "markdown",
      "metadata": {
        "id": "view-in-github",
        "colab_type": "text"
      },
      "source": [
        "<a href=\"https://colab.research.google.com/github/chinglin-k/Python_20210425/blob/main/2_%E8%B3%87%E6%96%99%E5%9E%8B%E6%85%8B(data_Type)%E5%8F%8A%E5%85%B6%E9%81%8B%E7%AE%97_20210425.ipynb\" target=\"_parent\"><img src=\"https://colab.research.google.com/assets/colab-badge.svg\" alt=\"Open In Colab\"/></a>"
      ]
    },
    {
      "cell_type": "markdown",
      "metadata": {
        "id": "ZLu9p4uz_CqA"
      },
      "source": [
        "#資料型態(data Type)及其運算"
      ]
    },
    {
      "cell_type": "markdown",
      "metadata": {
        "id": "J1ttZN82HU4Z"
      },
      "source": [
        "    Python有眾多資料型態(data Type)及其各種運算\n",
        "        >* 數值(Numeric)資料及其運算\n",
        "        >* 字串(string)及其運算\n",
        "        >* 列表(list)資料及其運算\n",
        "        >* 字典(dict)資料及其運算  \n",
        "        >*[自我練習]tuple資料及其運算  \n",
        "        >*[自我練習]set資料及其運算"
      ]
    },
    {
      "cell_type": "markdown",
      "metadata": {
        "id": "bJkdSAS4_Ic3"
      },
      "source": [
        "1_數值(Numeric)資料及其運算"
      ]
    },
    {
      "cell_type": "markdown",
      "metadata": {
        "id": "E7FtpFaFLvaI"
      },
      "source": [
        "    [1]Python支援的數值型資料型別(Numerics Data Type)\n",
        "    [2]基本的運算  <==請參閱書籍\n",
        "    算術運算子Arithmetic operators\n",
        "    比較（關係）運算子Comparison operators\n",
        "    賦值運算子Assignment operators\n",
        "    邏輯運算符Logical operators\n",
        "    位元運算子Bitwise operators\n",
        "    成員運算子Identity operators\n",
        "    身份運算子Membership operators\n",
        "\n",
        "    運算子優先順序\n",
        "\n",
        "    [3]內建的各種數學函數(Built-in functions)\n",
        "    Python 支持三種不同的數值型別(Data Type)：\n",
        "\n",
        "    [1]Int 整數，是可以是正或負整數，不帶小數點。\n",
        "    Python3  int是沒有限制大小的，可以當作 Long 類型使用，所以 Python3 沒有 Python2 的 Long 類型。\n",
        "    [2]浮點數(float) :由整數部分與小數部分組成，浮點型也可以使用科學計數法表示（2.5e2 = 2.5 x 10 0 = 250）\n",
        "    [3]複數( (complex)) - 複數由實數部分和虛數部分構成，可以用a + bj,或者complex(a,b)表示， \n",
        "    複數的實部a和虛部b都是浮點型。"
      ]
    },
    {
      "cell_type": "markdown",
      "metadata": {
        "id": "323TUDcdL5i4"
      },
      "source": [
        "基本的運算"
      ]
    },
    {
      "cell_type": "code",
      "metadata": {
        "colab": {
          "base_uri": "https://localhost:8080/"
        },
        "id": "tqatSaht-4jw",
        "outputId": "d8b949bf-a73f-44ae-93c2-83f4779256e5"
      },
      "source": [
        "a = 17 / 3\n",
        "b = 17 // 3\n",
        "c = 17 % 3\n",
        "\n",
        "a,b,c"
      ],
      "execution_count": 1,
      "outputs": [
        {
          "output_type": "execute_result",
          "data": {
            "text/plain": [
              "(5.666666666666667, 5, 2)"
            ]
          },
          "metadata": {
            "tags": []
          },
          "execution_count": 1
        }
      ]
    },
    {
      "cell_type": "markdown",
      "metadata": {
        "id": "K9YDkUOJMIV5"
      },
      "source": [
        "邏輯運算 Logical Operators"
      ]
    },
    {
      "cell_type": "code",
      "metadata": {
        "colab": {
          "base_uri": "https://localhost:8080/"
        },
        "id": "vMMNU-j7MCGb",
        "outputId": "7321a3e3-23ae-4607-a7bd-7fa15d99869e"
      },
      "source": [
        "x = 5\n",
        "print(x > 3 and x < 10)"
      ],
      "execution_count": 2,
      "outputs": [
        {
          "output_type": "stream",
          "text": [
            "True\n"
          ],
          "name": "stdout"
        }
      ]
    },
    {
      "cell_type": "code",
      "metadata": {
        "colab": {
          "base_uri": "https://localhost:8080/"
        },
        "id": "ELxmDhCNML1J",
        "outputId": "9b034266-a42c-423a-e883-da27d1051856"
      },
      "source": [
        "x = 5\n",
        "print(x > 3 or x < 4)"
      ],
      "execution_count": 3,
      "outputs": [
        {
          "output_type": "stream",
          "text": [
            "True\n"
          ],
          "name": "stdout"
        }
      ]
    },
    {
      "cell_type": "code",
      "metadata": {
        "colab": {
          "base_uri": "https://localhost:8080/"
        },
        "id": "z-0Q8h3RMOLR",
        "outputId": "41bd869b-0963-4226-eff4-55303f919876"
      },
      "source": [
        "x = 5\n",
        "print(not(x > 3 and x < 10))"
      ],
      "execution_count": 4,
      "outputs": [
        {
          "output_type": "stream",
          "text": [
            "False\n"
          ],
          "name": "stdout"
        }
      ]
    },
    {
      "cell_type": "code",
      "metadata": {
        "colab": {
          "base_uri": "https://localhost:8080/"
        },
        "id": "0sf8gQuBMQ45",
        "outputId": "e4eea6ed-117e-4dc8-a73a-25b9dedbceb7"
      },
      "source": [
        "a = 60            # 60 = 0011 1100 \n",
        "b = 13            # 13 = 0000 1101 \n",
        "c = 0\n",
        "\n",
        "print (\"0 - a =  60 = 0011 1100(二進位) \")\n",
        "print (\"0 - b =  13 = 0000 1101(二進位) \")\n",
        "c = a & b;        # 12 = 0000 1100\n",
        "print (\"1 - c = a & b的值為：\", c)\n",
        " \n",
        "c = a | b;        # 61 = 0011 1101 \n",
        "print (\"2 - c = a | b的值為：\", c)\n",
        " \n",
        "c = a ^ b;        # 49 = 0011 0001\n",
        "print (\"3 - c= a ^ b 的值為：\", c)\n",
        " \n",
        "c = ~a;           # -61 = 1100 0011\n",
        "print (\"4 - c = ~a的值為：\", c)\n",
        " \n",
        "c = a << 2;       # 240 = 1111 0000\n",
        "print (\"5 - c = a << 2的值為：\", c)\n",
        " \n",
        "c = a >> 2;       # 15 = 0000 1111\n",
        "print (\"6 - c = a >> 2的值為：\", c)"
      ],
      "execution_count": 5,
      "outputs": [
        {
          "output_type": "stream",
          "text": [
            "0 - a =  60 = 0011 1100(二進位) \n",
            "0 - b =  13 = 0000 1101(二進位) \n",
            "1 - c = a & b的值為： 12\n",
            "2 - c = a | b的值為： 61\n",
            "3 - c= a ^ b 的值為： 49\n",
            "4 - c = ~a的值為： -61\n",
            "5 - c = a << 2的值為： 240\n",
            "6 - c = a >> 2的值為： 15\n"
          ],
          "name": "stdout"
        }
      ]
    },
    {
      "cell_type": "code",
      "metadata": {
        "colab": {
          "base_uri": "https://localhost:8080/"
        },
        "id": "FXSd31eDMVQy",
        "outputId": "de76fe5f-97cd-4a63-db4f-b2e59c003479"
      },
      "source": [
        "#Round a number to only two decimals:\n",
        "x = round(5.76543, 2)\n",
        "print(x)\n",
        "\n",
        "\n",
        "# Round to the nearest integer:\n",
        "y = round(5.76543)\n",
        "print(y)"
      ],
      "execution_count": 6,
      "outputs": [
        {
          "output_type": "stream",
          "text": [
            "5.77\n",
            "6\n"
          ],
          "name": "stdout"
        }
      ]
    },
    {
      "cell_type": "markdown",
      "metadata": {
        "id": "5CeXDfYIMalA"
      },
      "source": [
        "Python 型態轉換"
      ]
    },
    {
      "cell_type": "markdown",
      "metadata": {
        "id": "41sziTn2Melv"
      },
      "source": [
        "    資料類型的轉換只需要將資料類型作為函數名即可。\n",
        "    int(x) 將x轉換為一個整數。\n",
        "    float(x) 將x轉換到一個浮點數。\n",
        "    complex(x) 將x轉換到一個複數，實數部分為 x，虛數部分為 0。\n",
        "    complex(x, y) 將 x 和 y 轉換到一個複數，實數部分為 x，虛數部分為 y。x 和 y 是數字運算式。"
      ]
    },
    {
      "cell_type": "code",
      "metadata": {
        "colab": {
          "base_uri": "https://localhost:8080/"
        },
        "id": "Dfxg40QiMZsT",
        "outputId": "3bfcab12-bd35-4887-dc0c-16c94058fe83"
      },
      "source": [
        "a = 1.0004\n",
        "int(a)\n",
        "\n",
        "b = 0.9999\n",
        "int(a)"
      ],
      "execution_count": 7,
      "outputs": [
        {
          "output_type": "execute_result",
          "data": {
            "text/plain": [
              "1"
            ]
          },
          "metadata": {
            "tags": []
          },
          "execution_count": 7
        }
      ]
    },
    {
      "cell_type": "code",
      "metadata": {
        "colab": {
          "base_uri": "https://localhost:8080/"
        },
        "id": "qW6VQ59oMX-J",
        "outputId": "f4a43882-d442-49fd-9d66-0c2a4e319470"
      },
      "source": [
        "#picoCTF 2017 : compute-rsa-50\n",
        "# RSA encryption/decryption is based on a formula that anyone can find and use, \n",
        "# as long as they know the values to plug in. \n",
        "\n",
        "# Given the encrypted number 150815, d = 1941, and N = 435979, \n",
        "# what is the decrypted number?\n",
        "\n",
        "encrypted = 150815\n",
        "d = 1941\n",
        "N = 435979\n",
        "decrypted = encrypted**d%N\n",
        "decrypted"
      ],
      "execution_count": 8,
      "outputs": [
        {
          "output_type": "execute_result",
          "data": {
            "text/plain": [
              "133337"
            ]
          },
          "metadata": {
            "tags": []
          },
          "execution_count": 8
        }
      ]
    },
    {
      "cell_type": "markdown",
      "metadata": {
        "id": "mf9HbVfkNR4w"
      },
      "source": [
        "2_字串(string)及其運算"
      ]
    },
    {
      "cell_type": "markdown",
      "metadata": {
        "id": "_TRd-1qbNWqZ"
      },
      "source": [
        "    字串(string)\n",
        "    [1]string字串 資料型態(data type) \n",
        "    [2]string字串的運算\n",
        "    [3]Python内建的字串函数(Built-in String Methods)"
      ]
    },
    {
      "cell_type": "markdown",
      "metadata": {
        "id": "cMTdw-q3NZ13"
      },
      "source": [
        "string字串 資料型態(data type)"
      ]
    },
    {
      "cell_type": "code",
      "metadata": {
        "colab": {
          "base_uri": "https://localhost:8080/"
        },
        "id": "z2Vb1To7Ndqu",
        "outputId": "3664a5c6-0c36-44b9-e2fd-012f48178c7a"
      },
      "source": [
        "str1 = '這是字串'\n",
        "str2 = \"這也是字串\"\n",
        "str3 = 'allows embedded \"double\" quotes'\n",
        "\n",
        "print(str1)\n",
        "print(str2)\n",
        "print(str3)"
      ],
      "execution_count": 10,
      "outputs": [
        {
          "output_type": "stream",
          "text": [
            "這是字串\n",
            "這也是字串\n",
            "allows embedded \"double\" quotes\n"
          ],
          "name": "stdout"
        }
      ]
    },
    {
      "cell_type": "markdown",
      "metadata": {
        "id": "DTIs-cSYNq6x"
      },
      "source": [
        "string字串的運算"
      ]
    },
    {
      "cell_type": "markdown",
      "metadata": {
        "id": "_XJ2tlP2NsjR"
      },
      "source": [
        "    存取字串中的值: 使用方括號"
      ]
    },
    {
      "cell_type": "code",
      "metadata": {
        "colab": {
          "base_uri": "https://localhost:8080/"
        },
        "id": "lA82qSR8Nn3x",
        "outputId": "78d50e9b-c177-4c47-8cdd-0b47723da6fd"
      },
      "source": [
        "var1 = 'Hello Python!'\n",
        "\n",
        "print(\"var1[0]: \", var1[0])\n",
        "print(\"var1[1:8]: \", var1[1:8]) # Slicing 切片運算"
      ],
      "execution_count": 11,
      "outputs": [
        {
          "output_type": "stream",
          "text": [
            "var1[0]:  H\n",
            "var1[1:8]:  ello Py\n"
          ],
          "name": "stdout"
        }
      ]
    },
    {
      "cell_type": "code",
      "metadata": {
        "colab": {
          "base_uri": "https://localhost:8080/"
        },
        "id": "o1jZvHpoNwx3",
        "outputId": "0a9da2c2-b109-40bc-af9c-96f27edba2b7"
      },
      "source": [
        "b = \"Hello, World!\"\n",
        "print(b[2:5])\n",
        "print(b[:5])\n",
        "print(b[2:])\n",
        "print(b[-5:-2]) # Negative Indexing"
      ],
      "execution_count": 12,
      "outputs": [
        {
          "output_type": "stream",
          "text": [
            "llo\n",
            "Hello\n",
            "llo, World!\n",
            "orl\n"
          ],
          "name": "stdout"
        }
      ]
    },
    {
      "cell_type": "markdown",
      "metadata": {
        "id": "JYb6oGPHN4c4"
      },
      "source": [
        "Python内建的字串函数(Built-in String Methods)"
      ]
    },
    {
      "cell_type": "code",
      "metadata": {
        "colab": {
          "base_uri": "https://localhost:8080/"
        },
        "id": "5Uk0evIPN2Zf",
        "outputId": "a4ade736-3241-40f1-814c-bbc4f668ecb6"
      },
      "source": [
        "str1='happy python day'\n",
        "str2='    Oh!   '\n",
        "\n",
        "str4=str1 + str2   # 字串串接String Concatenation運算\n",
        "\n",
        "print(str4.capitalize())\n"
      ],
      "execution_count": 16,
      "outputs": [
        {
          "output_type": "stream",
          "text": [
            "Happy python day    oh!   \n"
          ],
          "name": "stdout"
        }
      ]
    },
    {
      "cell_type": "markdown",
      "metadata": {
        "id": "NGdOb6jaOWcs"
      },
      "source": [
        "3_列表(list)資料及其運算"
      ]
    },
    {
      "cell_type": "markdown",
      "metadata": {
        "id": "7Cn-nm17OZI4"
      },
      "source": [
        "    LIST是 Python 中最基本的資料結構。\n",
        "\n",
        "    LIST使用一個方括號內的逗號分隔值出現。\n",
        "\n",
        "    LIST的每個值都有對應的位置，稱之為索引( index)，\n",
        "\n",
        "    第一個索引是 0，第二個索引是 1，依此類推。\n",
        "\n",
        "    LIST都可以進行的操作包括索引，切片，加，乘，檢查成員。\n",
        "\n",
        "    Python 內建許多函數: \n",
        "    1.len(list):元素個數\n",
        "    2.max(list)返回元素最大值\n",
        "    3.min(list):返回元素最小值"
      ]
    },
    {
      "cell_type": "code",
      "metadata": {
        "colab": {
          "base_uri": "https://localhost:8080/"
        },
        "id": "7QtAi4xtN0Vf",
        "outputId": "52b44f27-dec4-4aa0-9d8a-0ace3c561b46"
      },
      "source": [
        "list1 = [21, 33, 14, 12, 32, 98]\n",
        "\n",
        "print(list1[1])\n",
        "print(list1[-2])\n",
        "print(list1[1:3])  # 切片運算"
      ],
      "execution_count": 18,
      "outputs": [
        {
          "output_type": "stream",
          "text": [
            "33\n",
            "32\n",
            "[33, 14]\n"
          ],
          "name": "stdout"
        }
      ]
    },
    {
      "cell_type": "code",
      "metadata": {
        "colab": {
          "base_uri": "https://localhost:8080/"
        },
        "id": "GCpyhML9Om3e",
        "outputId": "371754e5-ad9b-4f9b-cb19-ea426c18fd4e"
      },
      "source": [
        "list1 = [21, 33, 14, 12, 32, 98]\n",
        "\n",
        "print(len(list1))\n",
        "print(max(list1))\n",
        "print(min(list1))\n",
        "print(sum(list1))"
      ],
      "execution_count": 19,
      "outputs": [
        {
          "output_type": "stream",
          "text": [
            "6\n",
            "98\n",
            "12\n",
            "210\n"
          ],
          "name": "stdout"
        }
      ]
    },
    {
      "cell_type": "markdown",
      "metadata": {
        "id": "9qu3D2plOlo5"
      },
      "source": [
        "4_字典(dict)資料及其運算"
      ]
    },
    {
      "cell_type": "markdown",
      "metadata": {
        "id": "23R5YNXkOzQq"
      },
      "source": [
        "    字典的每筆資料都使用key(鍵)=>value(值) pair(對)\n",
        "    每筆資料都使用冒號 : 分割\n",
        "    每對之間用逗號(,)分割，\n",
        "    整個字典包括在花括弧 {} \n",
        "\n",
        "    key(鍵)必須是唯一的，但value(值)則不必。\n",
        "\n",
        "    Python 內建許多函數: \n",
        "        len(dict):計算字典元素個數，即鍵的總數。\n",
        "\n",
        "\n",
        "    Python 內建許多方法(Method):\n",
        "    字典.items():以列表返回LIST陣列\n",
        "    字典.keys():返回所有keys\n",
        "    字典.values():返回所有values"
      ]
    },
    {
      "cell_type": "code",
      "metadata": {
        "colab": {
          "base_uri": "https://localhost:8080/"
        },
        "id": "xBj37ndCO2rg",
        "outputId": "f92cb103-3772-44b2-bef8-0e0f4cbd1bf5"
      },
      "source": [
        "a = dict(one=1, two=2, three=3)\n",
        "b = {'one': 1, 'two': 2, 'three': 3}\n",
        "c = dict(zip(['one', 'two', 'three'], [1, 2, 3]))\n",
        "d = dict([('two', 2), ('one', 1), ('three', 3)])\n",
        "e = dict({'three': 3, 'one': 1, 'two': 2})\n",
        "f = dict({'one': 1, 'three': 3}, two=2)\n",
        "a == b == c == d == e == f"
      ],
      "execution_count": 20,
      "outputs": [
        {
          "output_type": "execute_result",
          "data": {
            "text/plain": [
              "True"
            ]
          },
          "metadata": {
            "tags": []
          },
          "execution_count": 20
        }
      ]
    },
    {
      "cell_type": "code",
      "metadata": {
        "colab": {
          "base_uri": "https://localhost:8080/"
        },
        "id": "R_5D-yDcO4pX",
        "outputId": "a6fd03f3-b11f-47f2-8cdf-fcb27f4de9c6"
      },
      "source": [
        "dict = {'Name': 'DaDaLong', 'Age': 17, 'Class': 'First'}\n",
        "\n",
        "print(\"dict['Name']: \", dict['Name'])\n",
        "print(\"dict['Age']: \", dict['Age'])"
      ],
      "execution_count": 21,
      "outputs": [
        {
          "output_type": "stream",
          "text": [
            "dict['Name']:  DaDaLong\n",
            "dict['Age']:  17\n"
          ],
          "name": "stdout"
        }
      ]
    },
    {
      "cell_type": "code",
      "metadata": {
        "colab": {
          "base_uri": "https://localhost:8080/"
        },
        "id": "rXr13q9zO8Jt",
        "outputId": "8b869639-1fc5-41be-b979-bda2b7764892"
      },
      "source": [
        "dict = {'Name': 'DaDaLong', 'Age': 17, 'Class': 'First'}\n",
        "dict.items()"
      ],
      "execution_count": 22,
      "outputs": [
        {
          "output_type": "execute_result",
          "data": {
            "text/plain": [
              "dict_items([('Name', 'DaDaLong'), ('Age', 17), ('Class', 'First')])"
            ]
          },
          "metadata": {
            "tags": []
          },
          "execution_count": 22
        }
      ]
    },
    {
      "cell_type": "code",
      "metadata": {
        "colab": {
          "base_uri": "https://localhost:8080/"
        },
        "id": "fOUAT4I4PALz",
        "outputId": "f37c2cb4-5da9-45de-df31-a33ac6d7c207"
      },
      "source": [
        "#Compare\n",
        "dict = {'Name': 'DaDaLong', 'Age': 17, 'Class': 'First'}\n",
        "print(list(dict.items()))\n",
        "dict = {'Name': 'DaDaLong', 'Age': 17, 'Class': 'First'}\n",
        "print(list(dict.keys()))"
      ],
      "execution_count": 24,
      "outputs": [
        {
          "output_type": "stream",
          "text": [
            "[('Name', 'DaDaLong'), ('Age', 17), ('Class', 'First')]\n",
            "['Name', 'Age', 'Class']\n"
          ],
          "name": "stdout"
        }
      ]
    },
    {
      "cell_type": "markdown",
      "metadata": {
        "id": "d-bnjYQ8PQd5"
      },
      "source": [
        "應用範例程式"
      ]
    },
    {
      "cell_type": "code",
      "metadata": {
        "colab": {
          "base_uri": "https://localhost:8080/"
        },
        "id": "_zuKMq1kPRYY",
        "outputId": "8856eee1-61a0-4d50-b159-663885c4ec81"
      },
      "source": [
        "# 使用字典(dict)資料攢成簡單的小寫英文字母 的ASCII 字典\n",
        "# https://en.wikipedia.org/wiki/ASCII\n",
        "#  a-->97  ... z-->122\n",
        "\n",
        "# key 是數字 value是小寫英文字母 97-->a  ... 122-->z\n",
        "ascii_a2z = {num: chr(num) for num in range(97,123)}\n",
        "ascii_a2z\n",
        "# key 是小寫英文字母   value是 數字 a-->97  ... z-->122\n",
        "alphas= []\n",
        "for num in range(97,123):\n",
        "    alpha = chr(num)\n",
        "    alphas.append(alpha)\n",
        "  \n",
        "ascii_a2z = {alpha: ord(alpha) for alpha in alphas}\n",
        "ascii_a2z"
      ],
      "execution_count": 25,
      "outputs": [
        {
          "output_type": "execute_result",
          "data": {
            "text/plain": [
              "{'a': 97,\n",
              " 'b': 98,\n",
              " 'c': 99,\n",
              " 'd': 100,\n",
              " 'e': 101,\n",
              " 'f': 102,\n",
              " 'g': 103,\n",
              " 'h': 104,\n",
              " 'i': 105,\n",
              " 'j': 106,\n",
              " 'k': 107,\n",
              " 'l': 108,\n",
              " 'm': 109,\n",
              " 'n': 110,\n",
              " 'o': 111,\n",
              " 'p': 112,\n",
              " 'q': 113,\n",
              " 'r': 114,\n",
              " 's': 115,\n",
              " 't': 116,\n",
              " 'u': 117,\n",
              " 'v': 118,\n",
              " 'w': 119,\n",
              " 'x': 120,\n",
              " 'y': 121,\n",
              " 'z': 122}"
            ]
          },
          "metadata": {
            "tags": []
          },
          "execution_count": 25
        }
      ]
    },
    {
      "cell_type": "code",
      "metadata": {
        "colab": {
          "base_uri": "https://localhost:8080/"
        },
        "id": "IgjUiwyiPXWg",
        "outputId": "bf7140fc-3cdf-4cba-be62-891ee87ccf79"
      },
      "source": [
        "#改2&8&16\n",
        "\n",
        "# 使用字典(dict)資料攢成簡單的小寫英文字母 的ASCII 字典\n",
        "# https://en.wikipedia.org/wiki/ASCII\n",
        "#  a-->97  ... z-->122\n",
        "\n",
        "# key 是數字 value是小寫英文字母 97-->a  ... 122-->z\n",
        "# key 是小寫英文字母   value是 數字 a-->97  ... z-->122\n",
        "\n",
        "a2z_2A=[]\n",
        "a2z_8A=[]\n",
        "a2z_16A=[]\n",
        "\n",
        "a2z_2=[]\n",
        "a2z_8=[]\n",
        "a2z_16=[]\n",
        "\n",
        "for num in range(65,91):\n",
        "    a2z_2A.append(bin(num))\n",
        "    a2z_8A.append(oct(num))\n",
        "    a2z_16A.append(hex(num))\n",
        "for num in range(97,123):\n",
        "    a2z_2.append(bin(num))\n",
        "    a2z_8.append(oct(num))\n",
        "    a2z_16.append(hex(num))\n",
        "\n",
        "print(\"chr        X2    X8  X16\")\n",
        "for i in range(26):\n",
        "    print(chr(i+65),\" \",a2z_2A[i],a2z_8A[i],a2z_16A[i])\n",
        "print(\"-------------------------------------\")\n",
        "for i in range(26):\n",
        "    print(chr(i+97),\" \",a2z_2[i],a2z_8[i],a2z_16[i])"
      ],
      "execution_count": 50,
      "outputs": [
        {
          "output_type": "stream",
          "text": [
            "chr        X2    X8  X16\n",
            "A   0b1000001 0o101 0x41\n",
            "B   0b1000010 0o102 0x42\n",
            "C   0b1000011 0o103 0x43\n",
            "D   0b1000100 0o104 0x44\n",
            "E   0b1000101 0o105 0x45\n",
            "F   0b1000110 0o106 0x46\n",
            "G   0b1000111 0o107 0x47\n",
            "H   0b1001000 0o110 0x48\n",
            "I   0b1001001 0o111 0x49\n",
            "J   0b1001010 0o112 0x4a\n",
            "K   0b1001011 0o113 0x4b\n",
            "L   0b1001100 0o114 0x4c\n",
            "M   0b1001101 0o115 0x4d\n",
            "N   0b1001110 0o116 0x4e\n",
            "O   0b1001111 0o117 0x4f\n",
            "P   0b1010000 0o120 0x50\n",
            "Q   0b1010001 0o121 0x51\n",
            "R   0b1010010 0o122 0x52\n",
            "S   0b1010011 0o123 0x53\n",
            "T   0b1010100 0o124 0x54\n",
            "U   0b1010101 0o125 0x55\n",
            "V   0b1010110 0o126 0x56\n",
            "W   0b1010111 0o127 0x57\n",
            "X   0b1011000 0o130 0x58\n",
            "Y   0b1011001 0o131 0x59\n",
            "Z   0b1011010 0o132 0x5a\n",
            "-------------------------------------\n",
            "a   0b1100001 0o141 0x61\n",
            "b   0b1100010 0o142 0x62\n",
            "c   0b1100011 0o143 0x63\n",
            "d   0b1100100 0o144 0x64\n",
            "e   0b1100101 0o145 0x65\n",
            "f   0b1100110 0o146 0x66\n",
            "g   0b1100111 0o147 0x67\n",
            "h   0b1101000 0o150 0x68\n",
            "i   0b1101001 0o151 0x69\n",
            "j   0b1101010 0o152 0x6a\n",
            "k   0b1101011 0o153 0x6b\n",
            "l   0b1101100 0o154 0x6c\n",
            "m   0b1101101 0o155 0x6d\n",
            "n   0b1101110 0o156 0x6e\n",
            "o   0b1101111 0o157 0x6f\n",
            "p   0b1110000 0o160 0x70\n",
            "q   0b1110001 0o161 0x71\n",
            "r   0b1110010 0o162 0x72\n",
            "s   0b1110011 0o163 0x73\n",
            "t   0b1110100 0o164 0x74\n",
            "u   0b1110101 0o165 0x75\n",
            "v   0b1110110 0o166 0x76\n",
            "w   0b1110111 0o167 0x77\n",
            "x   0b1111000 0o170 0x78\n",
            "y   0b1111001 0o171 0x79\n",
            "z   0b1111010 0o172 0x7a\n"
          ],
          "name": "stdout"
        }
      ]
    }
  ]
}