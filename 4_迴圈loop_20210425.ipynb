{
  "nbformat": 4,
  "nbformat_minor": 0,
  "metadata": {
    "colab": {
      "name": "4_迴圈loop_20210425.ipynb",
      "provenance": [],
      "collapsed_sections": [],
      "authorship_tag": "ABX9TyOR4S+imHfwrRVPuTIGV1YA",
      "include_colab_link": true
    },
    "kernelspec": {
      "name": "python3",
      "display_name": "Python 3"
    },
    "language_info": {
      "name": "python"
    }
  },
  "cells": [
    {
      "cell_type": "markdown",
      "metadata": {
        "id": "view-in-github",
        "colab_type": "text"
      },
      "source": [
        "<a href=\"https://colab.research.google.com/github/chinglin-k/Python_20210425/blob/main/4_%E8%BF%B4%E5%9C%88loop_20210425.ipynb\" target=\"_parent\"><img src=\"https://colab.research.google.com/assets/colab-badge.svg\" alt=\"Open In Colab\"/></a>"
      ]
    },
    {
      "cell_type": "markdown",
      "metadata": {
        "id": "O1f9bhx3gwEa"
      },
      "source": [
        "#agenda"
      ]
    },
    {
      "cell_type": "markdown",
      "metadata": {
        "id": "tvsvMFgKg6Pw"
      },
      "source": [
        "    [1].使用range 函式 的功能建立整數循序數列\n",
        "\n",
        "    [2].使用for 廻圈 執行固定次數的廻圈運算(通常)\n",
        "    [3].使用while 廻圈執行沒有固定次數的廻圈運算\n",
        "\n",
        "    [4].continue 指令: 在廻圈執行中途暫時停住不往下執行，而跳到廻圈的起始處執行\n",
        "    [5].break 指令:在廻圈執行中途強迫跳離廻圈，跳到廻圈後面的程式繼續執行。\n",
        "\n",
        "    [6].廻圈中又包含廻圈的巢狀廻圈(Nested Loop)　===>設計九九乘法表\n",
        "    C 程式設計有(1)for 廻圈 (2)while 廻圈 (3)do… while 廻圈 \n",
        "\n",
        "    Python沒有do… while 廻圈"
      ]
    },
    {
      "cell_type": "markdown",
      "metadata": {
        "id": "d7AcukHphBEp"
      },
      "source": [
        "**range() 函式**"
      ]
    },
    {
      "cell_type": "markdown",
      "metadata": {
        "id": "W2FanF_ihDOq"
      },
      "source": [
        "    使用range 函式 的建立整數循序數列\n",
        "    \n",
        "    變數1 = range(整數值)\n",
        "    變數2 = range(起始值, 終止值)\n",
        "    變數3 = range(起始值, 終止值, 多少間隔)"
      ]
    },
    {
      "cell_type": "markdown",
      "metadata": {
        "id": "sv9jUDbkhHOw"
      },
      "source": [
        "**    變數1 = range(整數值)**"
      ]
    },
    {
      "cell_type": "code",
      "metadata": {
        "colab": {
          "base_uri": "https://localhost:8080/"
        },
        "id": "6PzgNbHzdg2G",
        "outputId": "be0447b5-1d07-4434-8e9c-d64517e004a1"
      },
      "source": [
        "list1=range(10)\n",
        "print(list1)\n",
        "\n",
        "print(list(list1))"
      ],
      "execution_count": 1,
      "outputs": [
        {
          "output_type": "stream",
          "text": [
            "range(0, 10)\n",
            "[0, 1, 2, 3, 4, 5, 6, 7, 8, 9]\n"
          ],
          "name": "stdout"
        }
      ]
    },
    {
      "cell_type": "markdown",
      "metadata": {
        "id": "6nHSpsVshZ2C"
      },
      "source": [
        "** 變數2 = range(起始值, 終止值) **\n",
        "\n"
      ]
    },
    {
      "cell_type": "code",
      "metadata": {
        "colab": {
          "base_uri": "https://localhost:8080/"
        },
        "id": "BGdEbsAahx9Z",
        "outputId": "3ce965ac-87c0-48e0-c044-cea51568e96f"
      },
      "source": [
        "list2=range(-4,5)\n",
        "print(list(list2))"
      ],
      "execution_count": 2,
      "outputs": [
        {
          "output_type": "stream",
          "text": [
            "[-4, -3, -2, -1, 0, 1, 2, 3, 4]\n"
          ],
          "name": "stdout"
        }
      ]
    },
    {
      "cell_type": "markdown",
      "metadata": {
        "id": "Eg8vOWhJh0Yp"
      },
      "source": [
        "** 變數3 = range(起始值, 終止值, 多少間隔) ** "
      ]
    },
    {
      "cell_type": "code",
      "metadata": {
        "colab": {
          "base_uri": "https://localhost:8080/"
        },
        "id": "yUX8ZYOqh4WL",
        "outputId": "93853651-513e-409b-fae2-7c0b21d8854f"
      },
      "source": [
        "list3=range(-4,5,2)\n",
        "print(list(list3))\n",
        "\n",
        "list4=range(-4,6,2)\n",
        "print(list(list4))"
      ],
      "execution_count": 4,
      "outputs": [
        {
          "output_type": "stream",
          "text": [
            "[-4, -2, 0, 2, 4]\n",
            "[-4, -2, 0, 2, 4]\n"
          ],
          "name": "stdout"
        }
      ]
    },
    {
      "cell_type": "markdown",
      "metadata": {
        "id": "A9nY_y7IiKhx"
      },
      "source": [
        "**for 迴圈**"
      ]
    },
    {
      "cell_type": "code",
      "metadata": {
        "colab": {
          "base_uri": "https://localhost:8080/"
        },
        "id": "r-fMpbuth8fB",
        "outputId": "eff14023-5e73-4609-c3f4-0307bf52085f"
      },
      "source": [
        "for n in range(5):\n",
        "  print(n)"
      ],
      "execution_count": 5,
      "outputs": [
        {
          "output_type": "stream",
          "text": [
            "0\n",
            "1\n",
            "2\n",
            "3\n",
            "4\n"
          ],
          "name": "stdout"
        }
      ]
    },
    {
      "cell_type": "code",
      "metadata": {
        "colab": {
          "base_uri": "https://localhost:8080/"
        },
        "id": "9QTLisXYiP5I",
        "outputId": "0a113c42-c758-449f-db53-338c830a4286"
      },
      "source": [
        "for n in range(10):\n",
        "    print(n, end='@')\n",
        "\n",
        "    #print(n, end='%%%%')"
      ],
      "execution_count": 6,
      "outputs": [
        {
          "output_type": "stream",
          "text": [
            "0@1@2@3@4@5@6@7@8@9@"
          ],
          "name": "stdout"
        }
      ]
    },
    {
      "cell_type": "code",
      "metadata": {
        "colab": {
          "base_uri": "https://localhost:8080/"
        },
        "id": "1ubkHF0RiVPa",
        "outputId": "7aa6b1e4-3dc5-48ea-f9f3-20049e8ad365"
      },
      "source": [
        "mysum = 0\n",
        "\n",
        "for n in range(5):\n",
        "  mysum += n\n",
        "  print(mysum)"
      ],
      "execution_count": 7,
      "outputs": [
        {
          "output_type": "stream",
          "text": [
            "0\n",
            "1\n",
            "3\n",
            "6\n",
            "10\n"
          ],
          "name": "stdout"
        }
      ]
    },
    {
      "cell_type": "code",
      "metadata": {
        "colab": {
          "base_uri": "https://localhost:8080/"
        },
        "id": "RoBN5QhAiV7L",
        "outputId": "08f8fe9b-3a35-42fa-e143-af5f9c6c0660"
      },
      "source": [
        "mysum = 0\n",
        "\n",
        "for n in range(5):\n",
        "  mysum += n\n",
        "\n",
        "print(mysum)"
      ],
      "execution_count": 8,
      "outputs": [
        {
          "output_type": "stream",
          "text": [
            "10\n"
          ],
          "name": "stdout"
        }
      ]
    },
    {
      "cell_type": "code",
      "metadata": {
        "id": "wi2HYfZNicJp"
      },
      "source": [
        "# Python 程式碼縮排\n",
        "\n",
        "# Python 語言以冒號「:」及縮排來表示程式區塊\n",
        "# 縮排為 1 個 Tab 鍵或 4 個空白鍵"
      ],
      "execution_count": null,
      "outputs": []
    },
    {
      "cell_type": "code",
      "metadata": {
        "colab": {
          "base_uri": "https://localhost:8080/"
        },
        "id": "MQTFWBmHifNL",
        "outputId": "9269f399-c20c-42f9-a2a2-6c994ec98bee"
      },
      "source": [
        "#計算1+2+3+ .....+ n\n",
        "x = int(input(\"請輸入一個正整數:\"))\n",
        "\n",
        "mysum = 0\n",
        "\n",
        "for n in range(x+1):\n",
        "  mysum += n\n",
        "\n",
        "print(mysum)"
      ],
      "execution_count": 9,
      "outputs": [
        {
          "output_type": "stream",
          "text": [
            "請輸入一個正整數:5\n",
            "15\n"
          ],
          "name": "stdout"
        }
      ]
    },
    {
      "cell_type": "markdown",
      "metadata": {
        "id": "-8Wj3sQ7itvI"
      },
      "source": [
        "**While Loop**"
      ]
    },
    {
      "cell_type": "code",
      "metadata": {
        "colab": {
          "base_uri": "https://localhost:8080/"
        },
        "id": "HpCDn7hyitTJ",
        "outputId": "b2b4e989-6efc-43d1-f365-9424a03bd98e"
      },
      "source": [
        "# 使用 while loop設計 \n",
        "# n階程的計算:n!=1*2*3*⋯*n\n",
        "\n",
        "# 1!　=　１\n",
        "# 2!　=　1*2　=　2\n",
        "# 3!　=　1*2*3　=　6\n",
        "# 輸入::一個正整數 n\n",
        "# 輸出::n!\n",
        "\n",
        "# 當使用者輸入一個正整數 n 後，程式就會顯示\n",
        "# 1*2*3*...*n 的乘積\n",
        "\n",
        "total = i = 1\n",
        "\n",
        "n = int(input(\"請輸入正整數 n 的值：\"))\n",
        "while(i<=n):\n",
        "    total *= i  \n",
        "    i+=1      \n",
        "\n",
        "print(\"%d!=%d\" % (n, total))"
      ],
      "execution_count": 10,
      "outputs": [
        {
          "output_type": "stream",
          "text": [
            "請輸入正整數 n 的值：55\n",
            "55!=12696403353658275925965100847566516959580321051449436762275840000000000000\n"
          ],
          "name": "stdout"
        }
      ]
    },
    {
      "cell_type": "markdown",
      "metadata": {
        "id": "g8k4Zu1Si6qS"
      },
      "source": [
        "**break 指令**"
      ]
    },
    {
      "cell_type": "markdown",
      "metadata": {
        "id": "Ey1QkNEQjJ7p"
      },
      "source": [
        "    可在廻圈執行中途強迫跳離廻圈，跳到廻圈後面的程式繼續執行。"
      ]
    },
    {
      "cell_type": "code",
      "metadata": {
        "id": "zfmkHPSIi9Lf"
      },
      "source": [
        "fruits = [\"香蕉\",\"蘋果\",\"橘子\",\"鳳梨\",\"西瓜\"]\n",
        "\n",
        "while True:\n",
        "    fruit = input(\"請輸入喜歡的水果(Enter 結束)：\")\n",
        "\n",
        "  # 要執行程式請記得把底下兩行 # 去除 \n",
        "  #  if (fruit==\"\"):\n",
        "  #      break\n",
        "\n",
        "    n = fruits.count(fruit) \n",
        "    if (n>0):  # 串列元素存在\n",
        "        p=fruits.index(fruit)\n",
        "        print(\"%s 在串列中的第 %d 項\" %(fruit,p+1))\n",
        "    else:\n",
        "        print(fruit,\"不在串列中!\")"
      ],
      "execution_count": null,
      "outputs": []
    },
    {
      "cell_type": "markdown",
      "metadata": {
        "id": "zwz5r8F6jOJZ"
      },
      "source": [
        "**continue 指令**"
      ]
    },
    {
      "cell_type": "markdown",
      "metadata": {
        "id": "_lDxtAe4jXEw"
      },
      "source": [
        "    在迴圈執行中途暫時停住不往下執行，而跳到廻圈的起始處繼續執行"
      ]
    },
    {
      "cell_type": "code",
      "metadata": {
        "id": "L-2EePftjQ9H"
      },
      "source": [
        "# 撰寫一個可以排除數列中 5 的倍數的程式\n",
        "\n",
        "# 輸入::一個正整數 n\n",
        "# 輸出::\n",
        "# 使用者只要輸入一個正整數，\n",
        "# 程式會顯示由 1 到該整數的整數數列，但會將 5 的倍數排除\n",
        "\n",
        "n = int(input(\"請輸入正整數：\"))\n",
        "\n",
        "for i in range(1, n+1):\n",
        "    if i % 5 ==0:\n",
        "        continue\n",
        "    print(i,end=\" \")"
      ],
      "execution_count": null,
      "outputs": []
    },
    {
      "cell_type": "markdown",
      "metadata": {
        "id": "gVAb1naTjejS"
      },
      "source": [
        "**巢狀廻圈Nested Loop**"
      ]
    },
    {
      "cell_type": "markdown",
      "metadata": {
        "id": "dVgGRJz8nawc"
      },
      "source": [
        "    迴圈中又包含廻圈 ==> 巢狀迴圈(Nested Loop)"
      ]
    },
    {
      "cell_type": "code",
      "metadata": {
        "colab": {
          "base_uri": "https://localhost:8080/"
        },
        "id": "XPCnrIsjjf1C",
        "outputId": "ee98f1c5-7c65-4414-859f-84d5b3336c6f"
      },
      "source": [
        "for i in range(1,6):\n",
        "    for j in range(1,5):\n",
        "        for k in range(1,7):\n",
        "            if( i != k ) and (i != j) and (j != k):\n",
        "                print(i,j,k)"
      ],
      "execution_count": 12,
      "outputs": [
        {
          "output_type": "stream",
          "text": [
            "1 2 3\n",
            "1 2 4\n",
            "1 2 5\n",
            "1 2 6\n",
            "1 3 2\n",
            "1 3 4\n",
            "1 3 5\n",
            "1 3 6\n",
            "1 4 2\n",
            "1 4 3\n",
            "1 4 5\n",
            "1 4 6\n",
            "2 1 3\n",
            "2 1 4\n",
            "2 1 5\n",
            "2 1 6\n",
            "2 3 1\n",
            "2 3 4\n",
            "2 3 5\n",
            "2 3 6\n",
            "2 4 1\n",
            "2 4 3\n",
            "2 4 5\n",
            "2 4 6\n",
            "3 1 2\n",
            "3 1 4\n",
            "3 1 5\n",
            "3 1 6\n",
            "3 2 1\n",
            "3 2 4\n",
            "3 2 5\n",
            "3 2 6\n",
            "3 4 1\n",
            "3 4 2\n",
            "3 4 5\n",
            "3 4 6\n",
            "4 1 2\n",
            "4 1 3\n",
            "4 1 5\n",
            "4 1 6\n",
            "4 2 1\n",
            "4 2 3\n",
            "4 2 5\n",
            "4 2 6\n",
            "4 3 1\n",
            "4 3 2\n",
            "4 3 5\n",
            "4 3 6\n",
            "5 1 2\n",
            "5 1 3\n",
            "5 1 4\n",
            "5 1 6\n",
            "5 2 1\n",
            "5 2 3\n",
            "5 2 4\n",
            "5 2 6\n",
            "5 3 1\n",
            "5 3 2\n",
            "5 3 4\n",
            "5 3 6\n",
            "5 4 1\n",
            "5 4 2\n",
            "5 4 3\n",
            "5 4 6\n"
          ],
          "name": "stdout"
        }
      ]
    }
  ]
}