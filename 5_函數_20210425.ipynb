{
  "nbformat": 4,
  "nbformat_minor": 0,
  "metadata": {
    "colab": {
      "name": "5_函數_20210425.ipynb",
      "provenance": [],
      "collapsed_sections": [],
      "authorship_tag": "ABX9TyPY250/QvNVShu9ezV7eA6U",
      "include_colab_link": true
    },
    "kernelspec": {
      "name": "python3",
      "display_name": "Python 3"
    },
    "language_info": {
      "name": "python"
    }
  },
  "cells": [
    {
      "cell_type": "markdown",
      "metadata": {
        "id": "view-in-github",
        "colab_type": "text"
      },
      "source": [
        "<a href=\"https://colab.research.google.com/github/chinglin-k/Python_20210425/blob/main/5_%E5%87%BD%E6%95%B8_20210425.ipynb\" target=\"_parent\"><img src=\"https://colab.research.google.com/assets/colab-badge.svg\" alt=\"Open In Colab\"/></a>"
      ]
    },
    {
      "cell_type": "markdown",
      "metadata": {
        "id": "gWXSBni8n_Ur"
      },
      "source": [
        "#函數"
      ]
    },
    {
      "cell_type": "markdown",
      "metadata": {
        "id": "J6F81--jn9Uc"
      },
      "source": [
        "    [1]函數\n",
        "    [2]函式參數與回傳\n",
        "    [3]變數的有效範圍(Scope)\n",
        "    [4]各種函數技術\n",
        "    匿名函數\n",
        "    遞迴函數\n",
        "    [5]Python內建函數==>Built-in Functions\n",
        "\n",
        "    函式 == 函數 == Function"
      ]
    },
    {
      "cell_type": "markdown",
      "metadata": {
        "id": "f_i4aWfRoIT1"
      },
      "source": [
        "**函式 >> 把常用的功能寫成函式, 再呼叫它**"
      ]
    },
    {
      "cell_type": "code",
      "metadata": {
        "colab": {
          "base_uri": "https://localhost:8080/"
        },
        "id": "t0kyYrqmnvHi",
        "outputId": "78c057bb-41bd-4fc8-d0fe-c3a9a851decb"
      },
      "source": [
        "def sum(i1, i2):\n",
        "    result = 0\n",
        "    for i in range(i1, i2):\n",
        "        result += i\n",
        "    return result\n",
        "\n",
        "def main():\n",
        "    print(\"Sum from 1 to 10 is\", sum(1, 11)) \n",
        "    print(\"Sum from 20 to 37 is\", sum(20, 38))\n",
        "    print(\"Sum from 35 to 49 is\", sum(35, 50))\n",
        "\n",
        "main() # Call the main function"
      ],
      "execution_count": 1,
      "outputs": [
        {
          "output_type": "stream",
          "text": [
            "Sum from 1 to 10 is 55\n",
            "Sum from 20 to 37 is 513\n",
            "Sum from 35 to 49 is 630\n"
          ],
          "name": "stdout"
        }
      ]
    },
    {
      "cell_type": "markdown",
      "metadata": {
        "id": "Kv_5EFAgohHA"
      },
      "source": [
        "**函式的定義**"
      ]
    },
    {
      "cell_type": "markdown",
      "metadata": {
        "id": "vUXEAVaAopvr"
      },
      "source": [
        "    函數代碼塊以 def 關鍵字開頭，後接函數識別字名稱和圓括號()。\n",
        "\n",
        "    任何傳入參數和引數必須放在圓括號中間。圓括號之間可以用於定義參數。\n",
        "\n",
        "    函數的第一行語句可以選擇性地使用文檔字串—用於存放函數說明。\n",
        "\n",
        "    函數內容以冒號起始，並且縮排。\n",
        "\n",
        "    return [運算式] 結束函數，選擇性地返回一個值給調用方。\n",
        "    不帶運算式的return相當於返回 None。\n",
        "\n",
        "    函式包含標頭和主體。\n",
        "    標頭(header)起源於def關鍵字，後接函式名稱和參數，最後以冒號結尾。"
      ]
    },
    {
      "cell_type": "code",
      "metadata": {
        "colab": {
          "base_uri": "https://localhost:8080/"
        },
        "id": "KRYSK5diobFK",
        "outputId": "1265ce37-87db-4ca3-97c7-6ae97981f30c"
      },
      "source": [
        "def swap(a,b):\n",
        "    a,b = b,a\n",
        "    return (a,b)\n",
        " \n",
        "if __name__ == '__main__':\n",
        "    x = 10\n",
        "    y = 20\n",
        "    print('x = %d,y = %d' % (x,y))\n",
        "    x,y = swap(x,y)\n",
        "    print('x = %d,y = %d' % (x,y))"
      ],
      "execution_count": 2,
      "outputs": [
        {
          "output_type": "stream",
          "text": [
            "x = 10,y = 20\n",
            "x = 20,y = 10\n"
          ],
          "name": "stdout"
        }
      ]
    },
    {
      "cell_type": "markdown",
      "metadata": {
        "id": "lM98uZ9mou9i"
      },
      "source": [
        "**函式與回傳值**"
      ]
    },
    {
      "cell_type": "markdown",
      "metadata": {
        "id": "w-vODEmFoxYa"
      },
      "source": [
        "    Python的函式是否有無回傳值，端視函式是否有無return敘述。\n",
        "\n",
        "    若函式沒有回傳值，預設是回傳一None特殊值。\n",
        "    因此，沒有回傳值的函式也稱為None函式。\n",
        "    None值可以指定給一變數，表示此變數沒有參考到任何的物件"
      ]
    },
    {
      "cell_type": "code",
      "metadata": {
        "colab": {
          "base_uri": "https://localhost:8080/"
        },
        "id": "Oec0ZJZRozo5",
        "outputId": "55deb447-d27e-4310-82da-f77c07bbaa26"
      },
      "source": [
        "#!/usr/bin/python \n",
        "# -*- coding: UTF-8 -*- \n",
        "\n",
        "def sort(number1, number2):\n",
        "    if number1 < number2:\n",
        "        return number1, number2\n",
        "    else:\n",
        "        return number2, number1\n",
        "\n",
        "num1, num2 = sort(31, 25)\n",
        "\n",
        "print(\"num1 is\", num1)\n",
        "print(\"num2 is\", num2)"
      ],
      "execution_count": 3,
      "outputs": [
        {
          "output_type": "stream",
          "text": [
            "num1 is 25\n",
            "num2 is 31\n"
          ],
          "name": "stdout"
        }
      ]
    },
    {
      "cell_type": "markdown",
      "metadata": {
        "id": "_kzpA4Fro3L5"
      },
      "source": [
        "**函式與參數**"
      ]
    },
    {
      "cell_type": "markdown",
      "metadata": {
        "id": "r5QdbPfFo6pR"
      },
      "source": [
        "    Default arguments預設參數\n",
        "    Positional arguments位置參數\n",
        "    Keyword arguments關鍵字參數"
      ]
    },
    {
      "cell_type": "code",
      "metadata": {
        "colab": {
          "base_uri": "https://localhost:8080/"
        },
        "id": "Fwi5lwRoo8sh",
        "outputId": "e4f7f5a9-035f-447c-f1f9-75a04bd90509"
      },
      "source": [
        "#!/usr/bin/python \n",
        "# -*- coding: UTF-8 -*- \n",
        "\n",
        "# 定義函式時 使用預設參數width = 11 , height = 12\n",
        "def printArea(width = 11, height = 12):\n",
        "    area = width * height\n",
        "    print(\"width:\", width, \"\\theight:\", height, \"\\tarea:\", area)\n",
        "\n",
        "# 函式呼叫時不帶任何參數 ==> 使用預設參數\n",
        "printArea() "
      ],
      "execution_count": 7,
      "outputs": [
        {
          "output_type": "stream",
          "text": [
            "width: 11 \theight: 12 \tarea: 132\n"
          ],
          "name": "stdout"
        }
      ]
    },
    {
      "cell_type": "code",
      "metadata": {
        "id": "PSIipLElpM7J"
      },
      "source": [
        "#!/usr/bin/python \n",
        "# -*- coding: UTF-8 -*- \n",
        "\n",
        "# 定義函式時 使用預設參數width = 11 , height = 12\n",
        "def printArea(width = 11, height = 12):\n",
        "    area = width * height\n",
        "    print(\"width:\", width, \"\\theight:\", height, \"\\tarea:\", area)\n",
        "\n",
        "# 函式呼叫時不帶任何參數 ==> 使用預設參數\n",
        "# printArea() \n",
        "\n",
        "# 函式呼叫時不帶參數名稱 ==> 使用位置參數\n",
        "#printArea(4, 2.5) \n",
        "# Positional arguments width = 4 and height = 2.5\n",
        "\n",
        "## 函式呼叫時帶參數名稱 ==> 使用關鍵字參數(Keyword arguments)\n",
        "#printArea(height = 5, width = 3) \n",
        "\n",
        "## 函式呼叫時僅帶部分參數名稱 ==> 沒帶參數部分 使用預設參數\n",
        "#printArea(width = 1.2) # Default height = 2\n",
        "#printArea(height = 6.2) # Default widht = 1"
      ],
      "execution_count": 9,
      "outputs": []
    },
    {
      "cell_type": "markdown",
      "metadata": {
        "id": "qDkHgh03pjv8"
      },
      "source": [
        "**collectiong parameters(任意數量的參數):* 與 ****"
      ]
    },
    {
      "cell_type": "markdown",
      "metadata": {
        "id": "Y-QZ4i-XpwUa"
      },
      "source": [
        "    def print_params(*params): \n",
        "        print(params) \n",
        "\n",
        "    # print_params('Testing') \n",
        "\n",
        "    print_params(1, 2, 3) \n",
        "\n",
        "    # return的是tuple資料型態\n",
        "    可和一般參數一齊用\n",
        "    def print_params_2(title, *params): \n",
        "        print(title) \n",
        "        print(params)\n",
        "\n",
        "    print_params_2('Params:', 1, 2, 3)"
      ]
    },
    {
      "cell_type": "code",
      "metadata": {
        "colab": {
          "base_uri": "https://localhost:8080/"
        },
        "id": "f4hyMXMSp215",
        "outputId": "996018f3-8c83-4682-c9ab-8ec9371df51f"
      },
      "source": [
        "def print_params_3(**params): \n",
        "    print(params) \n",
        "\n",
        "print_params_3(x=1, y=2, z=3) \n",
        "\n",
        "# return的是dict(字典資料型態)"
      ],
      "execution_count": 12,
      "outputs": [
        {
          "output_type": "stream",
          "text": [
            "{'x': 1, 'y': 2, 'z': 3}\n"
          ],
          "name": "stdout"
        }
      ]
    },
    {
      "cell_type": "code",
      "metadata": {
        "colab": {
          "base_uri": "https://localhost:8080/"
        },
        "id": "aSbosVi6p8Hz",
        "outputId": "b1b48dbf-9245-46bf-80f0-a773104f8f51"
      },
      "source": [
        "def print_params_4(x, y, z=3, *pospar, **keypar): \n",
        "    print(x, y, z) \n",
        "    print(pospar) \n",
        "    print(keypar) \n",
        "\n",
        "print_params_4(1, 2, 4, 5, 6, 7, foo=1, bar=2)\n",
        "\n",
        "print_params_4(1, 2)"
      ],
      "execution_count": 14,
      "outputs": [
        {
          "output_type": "stream",
          "text": [
            "1 2 4\n",
            "(5, 6, 7)\n",
            "{'foo': 1, 'bar': 2}\n",
            "1 2 3\n",
            "()\n",
            "{}\n"
          ],
          "name": "stdout"
        }
      ]
    },
    {
      "cell_type": "markdown",
      "metadata": {
        "id": "KYBXlx0iqGVq"
      },
      "source": [
        "**變數的有效範圍**"
      ]
    },
    {
      "cell_type": "markdown",
      "metadata": {
        "id": "4UPnXfOAqJ1s"
      },
      "source": [
        "    變數的有效範圍(Scope)：變數在程式可參考的範圍。\n",
        "\n",
        "    區域變數(local variable):宣告在函式內部的變數\n",
        "\n",
        "    全域變數(global variables):宣告在所有函式外部的變數"
      ]
    },
    {
      "cell_type": "markdown",
      "metadata": {
        "id": "jsces7wDvSPa"
      },
      "source": [
        "**各種函數技術**"
      ]
    },
    {
      "cell_type": "markdown",
      "metadata": {
        "id": "cQyxuTshvWhK"
      },
      "source": [
        "    匿名函數==>lambda 運算式\n",
        "    遞迴函式 ==> recursive vs iterative(loop)"
      ]
    },
    {
      "cell_type": "markdown",
      "metadata": {
        "id": "soCHbdpmvXPf"
      },
      "source": [
        "匿名函數==>lambda 運算式"
      ]
    },
    {
      "cell_type": "markdown",
      "metadata": {
        "id": "FTxkhKzMvbbh"
      },
      "source": [
        "    匿名函數==沒有函數名稱、臨時使用的小函數\n",
        "    使用lambda 運算式來宣告匿名函數\n",
        "    lambda 運算式只能包含一個運算式， 不允許複雜的語句，但運算式中可呼叫其他函數"
      ]
    },
    {
      "cell_type": "code",
      "metadata": {
        "colab": {
          "base_uri": "https://localhost:8080/"
        },
        "id": "Wm5LbAuOqIBj",
        "outputId": "dc4a7691-5b46-4d33-c3f5-4c17394ed205"
      },
      "source": [
        "f1 = lambda x, y, z: x+2*y+3*z\n",
        "print(f1(2,3,1))"
      ],
      "execution_count": 17,
      "outputs": [
        {
          "output_type": "stream",
          "text": [
            "11\n"
          ],
          "name": "stdout"
        }
      ]
    },
    {
      "cell_type": "code",
      "metadata": {
        "colab": {
          "base_uri": "https://localhost:8080/"
        },
        "id": "Pc6yLxGpvoBd",
        "outputId": "d02b3cf0-70ec-47db-d477-ab5af8dd7428"
      },
      "source": [
        "def myfunc(m):\n",
        "    return m*m\n",
        "\n",
        "my_list = [1, 3, 5, 7, 9]\n",
        "\n",
        "## 使用python的map()\n",
        "\n",
        "map(lambda x:myfunc(x), my_list)"
      ],
      "execution_count": 18,
      "outputs": [
        {
          "output_type": "execute_result",
          "data": {
            "text/plain": [
              "<map at 0x7ff8cf0cb2d0>"
            ]
          },
          "metadata": {
            "tags": []
          },
          "execution_count": 18
        }
      ]
    },
    {
      "cell_type": "markdown",
      "metadata": {
        "id": "EyoPgmTsvsx6"
      },
      "source": [
        "遞迴函式 ==> recursive vs iterative(loop)"
      ]
    },
    {
      "cell_type": "markdown",
      "metadata": {
        "id": "Inr6d6mHvyD6"
      },
      "source": [
        "    遞迴 (Recursion)函式:在函式中會呼叫自己函式\n",
        "\n",
        "    遞迴 (Recursion)與分治法(分而治之 Divide-and-conquer)\n",
        "\n",
        "    分治法(分而治之)是重要的演算法典範 \n",
        "    把一個複雜的問題分成兩個或更多的相同或相似的子問題，直到最後子問題可以簡單的直接求解，\n",
        "    原問題的解即子問題的解的合併\n",
        "    recursion is a method of solving a problem \n",
        "    where the solution depends on solutions to smaller instances of the same problem\n",
        "\n",
        "    函式開發 使用recursive 遞迴技術\n",
        "    函式開發 使用iterative(loop) 技術\n"
      ]
    },
    {
      "cell_type": "code",
      "metadata": {
        "id": "r3y_4K6NvucJ"
      },
      "source": [
        "#費氏數列\n",
        "\n",
        "# 費氏數列Fibonacci sequence又稱 黃金分割數列\n",
        "# 0、1、1、2、3、5、8、13、21、34、……。\n",
        "\n",
        "# 在數學上，費波那契數列是以遞迴的方法來定義：\n",
        "# F(0) = 0    (n=0)\n",
        "# F(1) = 1    (n=1)\n",
        "# F(n) = F(n-1)+ F(n-2)(n=>2)\n",
        "\n",
        "# 註:費氏數列有許多變化與定義,仔細區別之"
      ],
      "execution_count": null,
      "outputs": []
    },
    {
      "cell_type": "code",
      "metadata": {
        "colab": {
          "base_uri": "https://localhost:8080/"
        },
        "id": "XPWY8wGuwJ9T",
        "outputId": "302384bb-7f19-45e5-88ce-4624d266336c"
      },
      "source": [
        "# 方法一:使用 recursive\n",
        "\n",
        "def fib(n):\n",
        "    if n==1 or n==2:\n",
        "        return 1\n",
        "    return fib(n-1)+fib(n-2)\n",
        "\n",
        "print(fib(10))"
      ],
      "execution_count": 20,
      "outputs": [
        {
          "output_type": "stream",
          "text": [
            "55\n"
          ],
          "name": "stdout"
        }
      ]
    },
    {
      "cell_type": "code",
      "metadata": {
        "colab": {
          "base_uri": "https://localhost:8080/"
        },
        "id": "hminTtn1wPjq",
        "outputId": "eaf53857-4db3-4953-b440-c6b5cf0019cb"
      },
      "source": [
        "# 方法二:使用 iterative\n",
        "\n",
        "def fib(n):\n",
        "    a,b = 1,1\n",
        "    for i in range(n-1):\n",
        "        a,b = b,a+b\n",
        "    return a\n",
        " \n",
        "\n",
        "print(fib(10))"
      ],
      "execution_count": 21,
      "outputs": [
        {
          "output_type": "stream",
          "text": [
            "55\n"
          ],
          "name": "stdout"
        }
      ]
    },
    {
      "cell_type": "markdown",
      "metadata": {
        "id": "D_U015n4wWFa"
      },
      "source": [
        "**Python內建函數==>Built-in Functions**"
      ]
    },
    {
      "cell_type": "markdown",
      "metadata": {
        "id": "HeBM70UhwfoT"
      },
      "source": [
        "    https://docs.python.org/3.8/library/functions.html"
      ]
    }
  ]
}